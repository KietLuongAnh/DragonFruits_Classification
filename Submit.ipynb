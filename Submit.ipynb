{
  "nbformat": 4,
  "nbformat_minor": 0,
  "metadata": {
    "colab": {
      "name": "Submit",
      "provenance": []
    },
    "kernelspec": {
      "name": "python3",
      "display_name": "Python 3"
    },
    "language_info": {
      "name": "python"
    }
  },
  "cells": [
    {
      "cell_type": "markdown",
      "source": [
        "# Install library"
      ],
      "metadata": {
        "id": "Kylre7qAJI0J"
      }
    },
    {
      "cell_type": "code",
      "execution_count": null,
      "metadata": {
        "id": "qFajsfD4DHjs"
      },
      "outputs": [],
      "source": [
        "%tensorflow_version 1.x\n",
        "!pip install --upgrade h5py==2.10.0\n",
        "!wget https://pysource.com/extra_files/Mask_RCNN_basic_1.zip\n",
        "!unzip Mask_RCNN_basic_1.zip\n",
        "import sys\n",
        "sys.path.append(\"/content/Mask_RCNN/mrcnn\")\n",
        "from m_rcnn import *\n",
        "from visualize import random_colors, get_mask_contours, draw_mask\n",
        "%matplotlib inline\n",
        "import cv2\n",
        "import matplotlib.pyplot as plt"
      ]
    },
    {
      "cell_type": "markdown",
      "source": [
        "# Mount with my drive"
      ],
      "metadata": {
        "id": "n4BwWLE1KhXv"
      }
    },
    {
      "cell_type": "code",
      "source": [
        "from google.colab import drive\n",
        "drive.mount('/content/drive')"
      ],
      "metadata": {
        "id": "8KDUUT8VKkSP"
      },
      "execution_count": null,
      "outputs": []
    },
    {
      "cell_type": "markdown",
      "source": [
        "# Get data"
      ],
      "metadata": {
        "id": "UC_tAL1uJWfI"
      }
    },
    {
      "cell_type": "code",
      "source": [
        "images_path = \"dataset.zip\"\n",
        "annotations_path = \"labels_my-project-name_2022-06-11-05-44-34.json\"\n",
        "\n",
        "extract_images(os.path.join(\"/content/\",images_path), \"/content/dataset\")"
      ],
      "metadata": {
        "id": "yiP8I8w7JVVn"
      },
      "execution_count": null,
      "outputs": []
    },
    {
      "cell_type": "code",
      "source": [
        "dataset_train = load_image_dataset(os.path.join(\"/content/\", annotations_path), \"/content/dataset\", \"train\")\n",
        "dataset_val = load_image_dataset(os.path.join(\"/content/\", annotations_path), \"/content/dataset\", \"val\")\n",
        "class_number = dataset_train.count_classes()\n",
        "print('Train: %d' % len(dataset_train.image_ids))\n",
        "print('Validation: %d' % len(dataset_val.image_ids))\n",
        "print(\"Classes: {}\".format(class_number))"
      ],
      "metadata": {
        "id": "3VYpQI0CJZXn"
      },
      "execution_count": null,
      "outputs": []
    },
    {
      "cell_type": "markdown",
      "source": [
        "# Monitor image"
      ],
      "metadata": {
        "id": "32SO8NFPJySY"
      }
    },
    {
      "cell_type": "code",
      "source": [
        "display_image_samples(dataset_val)"
      ],
      "metadata": {
        "id": "TGog9DcgJkRl"
      },
      "execution_count": null,
      "outputs": []
    },
    {
      "cell_type": "markdown",
      "source": [
        "# Load weight parameter"
      ],
      "metadata": {
        "id": "Vj-9f1-qJ1zf"
      }
    },
    {
      "cell_type": "code",
      "source": [
        "# Load Configuration\n",
        "config = CustomConfig(class_number)\n",
        "#config.display()\n",
        "model = load_training_model(config)"
      ],
      "metadata": {
        "id": "LCLpPr4aJkfa"
      },
      "execution_count": null,
      "outputs": []
    },
    {
      "cell_type": "markdown",
      "source": [
        "# Training"
      ],
      "metadata": {
        "id": "69ROXMiTJ8bo"
      }
    },
    {
      "cell_type": "code",
      "source": [
        "train_head(model, dataset_train, dataset_train, config)"
      ],
      "metadata": {
        "id": "rlnWsP_aJksz"
      },
      "execution_count": null,
      "outputs": []
    },
    {
      "cell_type": "markdown",
      "source": [
        "# Test model\n",
        "My model is saved in drive which called mask_rcnn_object_0005.h5"
      ],
      "metadata": {
        "id": "MCNbglFDKBUH"
      }
    },
    {
      "cell_type": "code",
      "source": [
        "test_model, inference_config = load_inference_model(1, \"/content/drive/MyDrive/Save_model/mask_rcnn_object_0005.h5\")"
      ],
      "metadata": {
        "id": "YzH1fPozKo4l"
      },
      "execution_count": null,
      "outputs": []
    },
    {
      "cell_type": "code",
      "source": [
        "# Load Image\n",
        "img = cv2.imread(\"/content/drive/MyDrive/Save_model/154.jpg\")\n",
        "image = cv2.cvtColor(img, cv2.COLOR_BGR2RGB)\n",
        "\n",
        "# Predict \n",
        "r = test_model.detect([image])[0]\n",
        "colors = random_colors(80)"
      ],
      "metadata": {
        "id": "tpQThX5UK6Ef"
      },
      "execution_count": null,
      "outputs": []
    },
    {
      "cell_type": "markdown",
      "source": [
        "# Predict and draw the mask on the picture"
      ],
      "metadata": {
        "id": "C0oM5V5LLBq2"
      }
    },
    {
      "cell_type": "code",
      "source": [
        "from google.colab.patches import cv2_imshow\n",
        "# Get Coordinates and show it on the image\n",
        "object_count = len(r[\"class_ids\"])\n",
        "for i in range(object_count):\n",
        "    # 1. Mask\n",
        "    mask = r[\"masks\"][:, :, i]\n",
        "    contours = get_mask_contours(mask)      \n",
        "    for cnt in contours:\n",
        "        cv2.polylines(img, [cnt], True, colors[i], 2)\n",
        "        img = draw_mask(img, [cnt], colors[i])\n",
        "        area_px = cv2.contourArea(np.float32(cnt))\n",
        "        if (area_px >= 30000.0 and area_px < 40000.0):\n",
        "          chr = \"Loai 3\"\n",
        "        elif (area_px >= 40000.0 and area_px <50000.0):\n",
        "          chr = \"Loai 2\"\n",
        "        elif (area_px >=50000.0):\n",
        "          chr = \"Loai 1\"\n",
        "        else:\n",
        "          chr = \"Undefined\"\n",
        "print(area_px)\n",
        "cv2_imshow(img)"
      ],
      "metadata": {
        "id": "J001A5NJLAo9"
      },
      "execution_count": null,
      "outputs": []
    },
    {
      "cell_type": "markdown",
      "source": [
        "# Realtime in colab"
      ],
      "metadata": {
        "id": "RWkqrz8TLJhu"
      }
    },
    {
      "cell_type": "code",
      "source": [
        "# import dependencies\n",
        "from IPython.display import display, Javascript, Image\n",
        "from google.colab.output import eval_js\n",
        "from base64 import b64decode, b64encode\n",
        "import cv2\n",
        "import numpy as np\n",
        "import PIL\n",
        "import io\n",
        "import html\n",
        "import time\n",
        "from google.colab.patches import cv2_imshow"
      ],
      "metadata": {
        "id": "3qQtbhwjLI0p"
      },
      "execution_count": null,
      "outputs": []
    },
    {
      "cell_type": "code",
      "source": [
        "# JavaScript to properly create our live video stream using our webcam as input\n",
        "def video_stream():\n",
        "  js = Javascript('''\n",
        "    var video;\n",
        "    var div = null;\n",
        "    var stream;\n",
        "    var captureCanvas;\n",
        "    var imgElement;\n",
        "    var labelElement;\n",
        "    \n",
        "    var pendingResolve = null;\n",
        "    var shutdown = false;\n",
        "    \n",
        "    function removeDom() {\n",
        "       stream.getVideoTracks()[0].stop();\n",
        "       video.remove();\n",
        "       div.remove();\n",
        "       video = null;\n",
        "       div = null;\n",
        "       stream = null;\n",
        "       imgElement = null;\n",
        "       captureCanvas = null;\n",
        "       labelElement = null;\n",
        "    }\n",
        "    \n",
        "    function onAnimationFrame() {\n",
        "      if (!shutdown) {\n",
        "        window.requestAnimationFrame(onAnimationFrame);\n",
        "      }\n",
        "      if (pendingResolve) {\n",
        "        var result = \"\";\n",
        "        if (!shutdown) {\n",
        "          captureCanvas.getContext('2d').drawImage(video, 0, 0, 640, 480);\n",
        "          result = captureCanvas.toDataURL('image/jpeg', 0.8)\n",
        "        }\n",
        "        var lp = pendingResolve;\n",
        "        pendingResolve = null;\n",
        "        lp(result);\n",
        "      }\n",
        "    }\n",
        "    \n",
        "    async function createDom() {\n",
        "      if (div !== null) {\n",
        "        return stream;\n",
        "      }\n",
        "\n",
        "      div = document.createElement('div');\n",
        "      div.style.border = '2px solid black';\n",
        "      div.style.padding = '3px';\n",
        "      div.style.width = '100%';\n",
        "      div.style.maxWidth = '600px';\n",
        "      document.body.appendChild(div);\n",
        "      \n",
        "      const modelOut = document.createElement('div');\n",
        "      modelOut.innerHTML = \"<span>Status:</span>\";\n",
        "      labelElement = document.createElement('span');\n",
        "      labelElement.innerText = 'No data';\n",
        "      labelElement.style.fontWeight = 'bold';\n",
        "      modelOut.appendChild(labelElement);\n",
        "      div.appendChild(modelOut);\n",
        "           \n",
        "      video = document.createElement('video');\n",
        "      video.style.display = 'block';\n",
        "      video.width = div.clientWidth - 6;\n",
        "      video.setAttribute('playsinline', '');\n",
        "      video.onclick = () => { shutdown = true; };\n",
        "      stream = await navigator.mediaDevices.getUserMedia(\n",
        "          {video: { facingMode: \"environment\"}});\n",
        "      div.appendChild(video);\n",
        "\n",
        "      imgElement = document.createElement('img');\n",
        "      imgElement.style.position = 'absolute';\n",
        "      imgElement.style.zIndex = 1;\n",
        "      imgElement.onclick = () => { shutdown = true; };\n",
        "      div.appendChild(imgElement);\n",
        "      \n",
        "      const instruction = document.createElement('div');\n",
        "      instruction.innerHTML = \n",
        "          '<span style=\"color: red; font-weight: bold;\">' +\n",
        "          'When finished, click here or on the video to stop this demo</span>';\n",
        "      div.appendChild(instruction);\n",
        "      instruction.onclick = () => { shutdown = true; };\n",
        "      \n",
        "      video.srcObject = stream;\n",
        "      await video.play();\n",
        "\n",
        "      captureCanvas = document.createElement('canvas');\n",
        "      captureCanvas.width = 640; //video.videoWidth;\n",
        "      captureCanvas.height = 480; //video.videoHeight;\n",
        "      window.requestAnimationFrame(onAnimationFrame);\n",
        "      \n",
        "      return stream;\n",
        "    }\n",
        "    async function stream_frame(label, imgData) {\n",
        "      if (shutdown) {\n",
        "        removeDom();\n",
        "        shutdown = false;\n",
        "        return '';\n",
        "      }\n",
        "\n",
        "      var preCreate = Date.now();\n",
        "      stream = await createDom();\n",
        "      \n",
        "      var preShow = Date.now();\n",
        "      if (label != \"\") {\n",
        "        labelElement.innerHTML = label;\n",
        "      }\n",
        "            \n",
        "      if (imgData != \"\") {\n",
        "        var videoRect = video.getClientRects()[0];\n",
        "        imgElement.style.top = videoRect.top + \"px\";\n",
        "        imgElement.style.left = videoRect.left + \"px\";\n",
        "        imgElement.style.width = videoRect.width + \"px\";\n",
        "        imgElement.style.height = videoRect.height + \"px\";\n",
        "        imgElement.src = imgData;\n",
        "      }\n",
        "      \n",
        "      var preCapture = Date.now();\n",
        "      var result = await new Promise(function(resolve, reject) {\n",
        "        pendingResolve = resolve;\n",
        "      });\n",
        "      shutdown = false;\n",
        "      \n",
        "      return {'create': preShow - preCreate, \n",
        "              'show': preCapture - preShow, \n",
        "              'capture': Date.now() - preCapture,\n",
        "              'img': result};\n",
        "    }\n",
        "    ''')\n",
        "\n",
        "  display(js)\n",
        "  \n",
        "def video_frame(label, bbox):\n",
        "  data = eval_js('stream_frame(\"{}\", \"{}\")'.format(label, bbox))\n",
        "  return data"
      ],
      "metadata": {
        "id": "tkV9VuM8LNzA"
      },
      "execution_count": null,
      "outputs": []
    },
    {
      "cell_type": "code",
      "source": [
        "# function to convert the JavaScript object into an OpenCV image\n",
        "def js_to_image(js_reply):\n",
        "  \"\"\"\n",
        "  Params:\n",
        "          js_reply: JavaScript object containing image from webcam\n",
        "  Returns:\n",
        "          img: OpenCV BGR image\n",
        "  \"\"\"\n",
        "  # decode base64 image\n",
        "  image_bytes = b64decode(js_reply.split(',')[1])\n",
        "  # convert bytes to numpy array\n",
        "  jpg_as_np = np.frombuffer(image_bytes, dtype=np.uint8)\n",
        "  # decode numpy array into OpenCV BGR image\n",
        "  img = cv2.imdecode(jpg_as_np, flags=1)\n",
        "\n",
        "  return img\n",
        "\n",
        "# function to convert OpenCV Rectangle bounding box image into base64 byte string to be overlayed on video stream\n",
        "def bbox_to_bytes(bbox_array):\n",
        "  \"\"\"\n",
        "  Params:\n",
        "          bbox_array: Numpy array (pixels) containing rectangle to overlay on video stream.\n",
        "  Returns:\n",
        "        bytes: Base64 image byte string\n",
        "  \"\"\"\n",
        "  # convert array into PIL image\n",
        "  bbox_PIL = PIL.Image.fromarray(bbox_array, 'RGBA')\n",
        "  iobuf = io.BytesIO()\n",
        "  # format bbox into png for return\n",
        "  bbox_PIL.save(iobuf, format='png')\n",
        "  # format return string\n",
        "  bbox_bytes = 'data:image/png;base64,{}'.format((str(b64encode(iobuf.getvalue()), 'utf-8')))\n",
        "\n",
        "  return bbox_bytes"
      ],
      "metadata": {
        "id": "bjoNJLWHLPVP"
      },
      "execution_count": null,
      "outputs": []
    },
    {
      "cell_type": "markdown",
      "source": [
        "# Starting video and show the result"
      ],
      "metadata": {
        "id": "Rv4AlppXLTmG"
      }
    },
    {
      "cell_type": "code",
      "source": [
        "# start streaming video from webcam\n",
        "video_stream()\n",
        "# label for video\n",
        "label_html = 'Capturing...'\n",
        "# initialze bounding box to empty\n",
        "bbox = ''\n",
        "count = 0 \n",
        "while True:\n",
        "    js_reply = video_frame(label_html, bbox)\n",
        "    if not js_reply:\n",
        "        break\n",
        "    # Load Image\n",
        "    # convert JS response to OpenCV Image\n",
        "    img = js_to_image(js_reply[\"img\"])\n",
        "    # image = cv2.imread(img)\n",
        "    image = cv2.cvtColor(img, cv2.COLOR_BGR2RGB)\n",
        "\n",
        "    # Detect results\n",
        "    r = test_model.detect([image])[0]\n",
        "    colors = random_colors(80)\n",
        "\n",
        "    # Get Coordinates and show it on the image\n",
        "    object_count = len(r[\"class_ids\"])\n",
        "    for i in range(object_count):\n",
        "        # 1. Mask\n",
        "        mask = r[\"masks\"][:, :, i]\n",
        "        # mask = np.reshape(mask, (-1, mask.shape[-1])).astype(np.float32).sum()\n",
        "        contours = get_mask_contours(mask)      \n",
        "        for cnt in contours:\n",
        "            bbox_array = cv2.polylines(img, [cnt], True, colors[i], 2)\n",
        "            img = draw_mask(img, [cnt], colors[i])\n",
        "            area_px = cv2.contourArea(np.float32(cnt))\n",
        "            if (area_px >= 30000.0 and area_px < 40000.0):\n",
        "              chr = \"Loai 3\"\n",
        "            elif (area_px >= 40000.0 and area_px <50000.0):\n",
        "              chr = \"Loai 2\"\n",
        "            elif (area_px >=50000.0):\n",
        "              chr = \"Loai 1\"\n",
        "            else:\n",
        "              chr = \"Undefined\"\n",
        "    cv2.putText(img, \"S: {}\".format(chr), (20, 75), cv2.FONT_HERSHEY_SIMPLEX, 0.75, (0, 255, 0), 2, cv2.LINE_AA)\n",
        "    cv2_imshow(img)"
      ],
      "metadata": {
        "id": "7SnGYBM8LRC5"
      },
      "execution_count": null,
      "outputs": []
    },
    {
      "cell_type": "markdown",
      "source": [
        ""
      ],
      "metadata": {
        "id": "cdlWiOVqJIGJ"
      }
    }
  ]
}